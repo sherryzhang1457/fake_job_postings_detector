{
  "cells": [
    {
      "cell_type": "code",
      "execution_count": null,
      "id": "c8c0f15f",
      "metadata": {
        "execution": {
          "iopub.execute_input": "2024-03-28T21:47:36.584797Z",
          "iopub.status.busy": "2024-03-28T21:47:36.584201Z",
          "iopub.status.idle": "2024-03-28T21:47:48.024159Z",
          "shell.execute_reply": "2024-03-28T21:47:48.022842Z"
        },
        "papermill": {
          "duration": 11.457599,
          "end_time": "2024-03-28T21:47:48.027161",
          "exception": false,
          "start_time": "2024-03-28T21:47:36.569562",
          "status": "completed"
        },
        "tags": [],
        "id": "c8c0f15f",
        "outputId": "972487c3-5973-4242-f829-df5844958cc1"
      },
      "outputs": [
        {
          "name": "stdout",
          "output_type": "stream",
          "text": [
            "[nltk_data] Downloading package stopwords to /usr/share/nltk_data...\n",
            "[nltk_data]   Package stopwords is already up-to-date!\n"
          ]
        }
      ],
      "source": [
        "import pandas as pd\n",
        "import numpy as np\n",
        "import re\n",
        "import string\n",
        "import random\n",
        "import missingno\n",
        "import plotly.express as px\n",
        "import joblib\n",
        "\n",
        "# plot\n",
        "%matplotlib inline\n",
        "import matplotlib.pyplot as plt\n",
        "import seaborn as sns\n",
        "color_pal = sns.color_palette()\n",
        "\n",
        "# preprocessing\n",
        "from sklearn.feature_extraction.text import TfidfVectorizer, CountVectorizer\n",
        "from sklearn.model_selection import StratifiedShuffleSplit\n",
        "from sklearn.feature_selection import SelectPercentile, chi2\n",
        "from sklearn.pipeline import Pipeline\n",
        "from sklearn.base import TransformerMixin\n",
        "\n",
        "\n",
        "# Download necessary resources for NLP\n",
        "from wordcloud import WordCloud\n",
        "\n",
        "import spacy\n",
        "from spacy.lang.en.stop_words import STOP_WORDS\n",
        "from spacy.lang.en import English\n",
        "from spacy.tokenizer import Tokenizer\n",
        "import nltk\n",
        "nltk.download('stopwords')\n",
        "from nltk.tokenize import sent_tokenize\n",
        "\n",
        "# Oversample and plot imbalanced dataset with SMOTE\n",
        "import imblearn\n",
        "from imblearn.over_sampling import SMOTE\n",
        "\n",
        "# model\n",
        "from sklearn.linear_model import LogisticRegression\n",
        "from sklearn.ensemble import RandomForestClassifier\n",
        "from xgboost import XGBClassifier\n",
        "\n",
        "\n",
        "# fine-tuning, ensemble\n",
        "from sklearn.model_selection import StratifiedKFold\n",
        "from sklearn.model_selection import cross_val_score, GridSearchCV, RandomizedSearchCV\n",
        "from sklearn.metrics import f1_score, roc_auc_score, average_precision_score\n",
        "from sklearn.metrics import confusion_matrix, ConfusionMatrixDisplay\n",
        "from sklearn.metrics import accuracy_score, recall_score\n",
        "from sklearn.metrics import classification_report\n",
        "from sklearn.metrics import precision_recall_curve\n",
        "\n",
        "import warnings\n",
        "warnings.filterwarnings(\"ignore\", category=FutureWarning)\n"
      ]
    },
    {
      "cell_type": "code",
      "execution_count": null,
      "id": "cf114f53",
      "metadata": {
        "execution": {
          "iopub.execute_input": "2024-03-28T21:47:48.056547Z",
          "iopub.status.busy": "2024-03-28T21:47:48.055786Z",
          "iopub.status.idle": "2024-03-28T21:47:49.567710Z",
          "shell.execute_reply": "2024-03-28T21:47:49.566212Z"
        },
        "papermill": {
          "duration": 1.529925,
          "end_time": "2024-03-28T21:47:49.570589",
          "exception": false,
          "start_time": "2024-03-28T21:47:48.040664",
          "status": "completed"
        },
        "tags": [],
        "id": "cf114f53"
      },
      "outputs": [],
      "source": [
        "data_raw = pd.read_csv('/kaggle/fake_job_postings.csv')\n",
        "data = data_raw.copy()"
      ]
    },
    {
      "cell_type": "code",
      "execution_count": null,
      "id": "c3ab9429",
      "metadata": {
        "execution": {
          "iopub.execute_input": "2024-03-28T21:47:49.599363Z",
          "iopub.status.busy": "2024-03-28T21:47:49.598954Z",
          "iopub.status.idle": "2024-03-28T21:47:49.647953Z",
          "shell.execute_reply": "2024-03-28T21:47:49.646675Z"
        },
        "papermill": {
          "duration": 0.067146,
          "end_time": "2024-03-28T21:47:49.650742",
          "exception": false,
          "start_time": "2024-03-28T21:47:49.583596",
          "status": "completed"
        },
        "tags": [],
        "id": "c3ab9429"
      },
      "outputs": [],
      "source": [
        "def split(location):\n",
        "    return str(location).split(',')[0]\n",
        "\n",
        "data['country'] = data.location.apply(split)\n",
        "\n",
        "# only train and test job postings in US\n",
        "data = data.loc[data['country']=='US'].copy()"
      ]
    },
    {
      "cell_type": "code",
      "execution_count": null,
      "id": "acfc38c2",
      "metadata": {
        "execution": {
          "iopub.execute_input": "2024-03-28T21:47:49.678825Z",
          "iopub.status.busy": "2024-03-28T21:47:49.678317Z",
          "iopub.status.idle": "2024-03-28T21:47:49.861643Z",
          "shell.execute_reply": "2024-03-28T21:47:49.860274Z"
        },
        "papermill": {
          "duration": 0.201123,
          "end_time": "2024-03-28T21:47:49.864707",
          "exception": false,
          "start_time": "2024-03-28T21:47:49.663584",
          "status": "completed"
        },
        "tags": [],
        "id": "acfc38c2"
      },
      "outputs": [],
      "source": [
        "columns=['job_id', 'telecommuting', 'has_company_logo', 'has_questions', 'salary_range', 'employment_type']\n",
        "for col in columns:\n",
        "    del data[col]\n",
        "\n",
        "data.fillna(' ', inplace=True)\n",
        "\n",
        "data['text']=data['title']+' '+data['location']+' '+data['company_profile']+' '+data['description']+' '+data['requirements']+' '+data['benefits']\n",
        "del data['title']\n",
        "del data['location']\n",
        "del data['department']\n",
        "del data['company_profile']\n",
        "del data['description']\n",
        "del data['requirements']\n",
        "del data['benefits']\n",
        "del data['required_experience']\n",
        "del data['required_education']\n",
        "del data['industry']\n",
        "del data['function']\n",
        "del data['country']"
      ]
    },
    {
      "cell_type": "code",
      "execution_count": null,
      "id": "91c3cfef",
      "metadata": {
        "execution": {
          "iopub.execute_input": "2024-03-28T21:47:49.892708Z",
          "iopub.status.busy": "2024-03-28T21:47:49.892236Z",
          "iopub.status.idle": "2024-03-28T21:47:49.913566Z",
          "shell.execute_reply": "2024-03-28T21:47:49.912306Z"
        },
        "papermill": {
          "duration": 0.038667,
          "end_time": "2024-03-28T21:47:49.916719",
          "exception": false,
          "start_time": "2024-03-28T21:47:49.878052",
          "status": "completed"
        },
        "tags": [],
        "id": "91c3cfef",
        "outputId": "be9580d6-32cd-418f-81ba-792d3ce4ac7a"
      },
      "outputs": [
        {
          "data": {
            "text/plain": [
              "fraudulent\n",
              "0    9926\n",
              "1     730\n",
              "Name: count, dtype: int64"
            ]
          },
          "execution_count": 6,
          "metadata": {},
          "output_type": "execute_result"
        }
      ],
      "source": [
        "data['fraudulent'].value_counts()"
      ]
    },
    {
      "cell_type": "code",
      "execution_count": null,
      "id": "11204c58",
      "metadata": {
        "execution": {
          "iopub.execute_input": "2024-03-28T21:47:49.945379Z",
          "iopub.status.busy": "2024-03-28T21:47:49.944947Z",
          "iopub.status.idle": "2024-03-28T21:47:49.986087Z",
          "shell.execute_reply": "2024-03-28T21:47:49.984883Z"
        },
        "papermill": {
          "duration": 0.058436,
          "end_time": "2024-03-28T21:47:49.988765",
          "exception": false,
          "start_time": "2024-03-28T21:47:49.930329",
          "status": "completed"
        },
        "tags": [],
        "id": "11204c58"
      },
      "outputs": [],
      "source": [
        "data.drop_duplicates(subset='text', inplace=True)"
      ]
    },
    {
      "cell_type": "code",
      "execution_count": null,
      "id": "2d6259f6",
      "metadata": {
        "execution": {
          "iopub.execute_input": "2024-03-28T21:47:50.017814Z",
          "iopub.status.busy": "2024-03-28T21:47:50.017380Z",
          "iopub.status.idle": "2024-03-28T21:47:50.027453Z",
          "shell.execute_reply": "2024-03-28T21:47:50.026217Z"
        },
        "papermill": {
          "duration": 0.02755,
          "end_time": "2024-03-28T21:47:50.029843",
          "exception": false,
          "start_time": "2024-03-28T21:47:50.002293",
          "status": "completed"
        },
        "tags": [],
        "id": "2d6259f6",
        "outputId": "4cb79317-976a-49ff-dc6d-a424a04d12f9"
      },
      "outputs": [
        {
          "data": {
            "text/plain": [
              "fraudulent\n",
              "0    9685\n",
              "1     718\n",
              "Name: count, dtype: int64"
            ]
          },
          "execution_count": 8,
          "metadata": {},
          "output_type": "execute_result"
        }
      ],
      "source": [
        "data['fraudulent'].value_counts()"
      ]
    },
    {
      "cell_type": "code",
      "execution_count": null,
      "id": "55d12f02",
      "metadata": {
        "execution": {
          "iopub.execute_input": "2024-03-28T21:47:50.059240Z",
          "iopub.status.busy": "2024-03-28T21:47:50.058793Z",
          "iopub.status.idle": "2024-03-28T21:47:50.066371Z",
          "shell.execute_reply": "2024-03-28T21:47:50.065265Z"
        },
        "papermill": {
          "duration": 0.025923,
          "end_time": "2024-03-28T21:47:50.069032",
          "exception": false,
          "start_time": "2024-03-28T21:47:50.043109",
          "status": "completed"
        },
        "tags": [],
        "id": "55d12f02"
      },
      "outputs": [],
      "source": [
        "data = data.reset_index()"
      ]
    },
    {
      "cell_type": "code",
      "execution_count": null,
      "id": "50aea260",
      "metadata": {
        "execution": {
          "iopub.execute_input": "2024-03-28T21:47:50.099168Z",
          "iopub.status.busy": "2024-03-28T21:47:50.098732Z",
          "iopub.status.idle": "2024-03-28T21:47:50.123823Z",
          "shell.execute_reply": "2024-03-28T21:47:50.122737Z"
        },
        "papermill": {
          "duration": 0.042637,
          "end_time": "2024-03-28T21:47:50.126504",
          "exception": false,
          "start_time": "2024-03-28T21:47:50.083867",
          "status": "completed"
        },
        "tags": [],
        "id": "50aea260"
      },
      "outputs": [],
      "source": [
        "# split train and test dataset\n",
        "split = StratifiedShuffleSplit(n_splits=1, test_size=0.2, random_state=42)\n",
        "for train_index, test_index in split.split(data, data.fraudulent):\n",
        "  train_temp = data.iloc[train_index]\n",
        "  X_test = data.iloc[test_index]['text']\n",
        "  y_test = data.iloc[test_index]['fraudulent']\n",
        "\n",
        "for train_index, val_index in split.split(train_temp, train_temp.fraudulent):\n",
        "  X_train = train_temp.iloc[train_index]['text']\n",
        "  y_train = train_temp.iloc[train_index]['fraudulent']\n",
        "  X_val = train_temp.iloc[val_index]['text']\n",
        "  y_val = train_temp.iloc[val_index]['fraudulent']"
      ]
    },
    {
      "cell_type": "code",
      "execution_count": null,
      "id": "c8abb083",
      "metadata": {
        "execution": {
          "iopub.execute_input": "2024-03-28T21:47:50.155419Z",
          "iopub.status.busy": "2024-03-28T21:47:50.154996Z",
          "iopub.status.idle": "2024-03-28T21:47:50.160064Z",
          "shell.execute_reply": "2024-03-28T21:47:50.158878Z"
        },
        "papermill": {
          "duration": 0.022961,
          "end_time": "2024-03-28T21:47:50.163067",
          "exception": false,
          "start_time": "2024-03-28T21:47:50.140106",
          "status": "completed"
        },
        "tags": [],
        "id": "c8abb083"
      },
      "outputs": [],
      "source": [
        "# pip install googletrans==4.0.0-rc1"
      ]
    },
    {
      "cell_type": "code",
      "execution_count": null,
      "id": "f5a9e0ae",
      "metadata": {
        "execution": {
          "iopub.execute_input": "2024-03-28T21:47:50.191808Z",
          "iopub.status.busy": "2024-03-28T21:47:50.191384Z",
          "iopub.status.idle": "2024-03-28T21:47:50.198212Z",
          "shell.execute_reply": "2024-03-28T21:47:50.196964Z"
        },
        "papermill": {
          "duration": 0.024335,
          "end_time": "2024-03-28T21:47:50.200922",
          "exception": false,
          "start_time": "2024-03-28T21:47:50.176587",
          "status": "completed"
        },
        "tags": [],
        "id": "f5a9e0ae"
      },
      "outputs": [],
      "source": [
        "# from googletrans import Translator\n",
        "# from time import sleep\n",
        "\n",
        "# def back_translation(text, src_lang='en', intermediate_lang=None):\n",
        "#     # Create a translator object\n",
        "#     translator = Translator()\n",
        "\n",
        "#     # If no intermediate language is provided, randomly choose one\n",
        "#     if intermediate_lang is None:\n",
        "#         intermediate_langs = ['fr', 'es', 'de', 'ru']#, 'zh-cn']  # List of example languages\n",
        "#         intermediate_lang = random.choice(intermediate_langs)\n",
        "\n",
        "#     # Translate to intermediate language\n",
        "#     intermediate_text = translator.translate(text, src=src_lang, dest=intermediate_lang).text\n",
        "#     if not intermediate_text:\n",
        "#         print(text)\n",
        "#     # Translate back to source language\n",
        "#     augmented_text = translator.translate(intermediate_text, src=intermediate_lang, dest=src_lang).text\n",
        "\n",
        "#     return augmented_text\n",
        "\n",
        "# def augment_dataset(X_train, y_train):\n",
        "#     augmented_dataset = []\n",
        "#     X_train_fake = X_train[y_train == 1].reset_index(drop = True)\n",
        "#     i = 0\n",
        "#     for fake in X_train_fake:\n",
        "#         i += 1\n",
        "#         print(i, len(fake))\n",
        "#         if len(fake) < 5000:\n",
        "#             augmented_text = back_translation(fake) #, intermediate_lang='es')\n",
        "#             sleep(10)\n",
        "#             augmented_dataset.append(augmented_text)\n",
        "#         if i%10 == 0:\n",
        "#             sleep(30)\n",
        "#     dataset = pd.Series(augmented_dataset)\n",
        "#     dataset.to_csv('augment_data.csv', index=False)\n",
        "#     return pd.concat([X_train, dataset]) #, pd.concat([y_train, np.ones(len(augmented_dataset))])"
      ]
    },
    {
      "cell_type": "code",
      "execution_count": null,
      "id": "b1e654f9",
      "metadata": {
        "execution": {
          "iopub.execute_input": "2024-03-28T21:47:50.229799Z",
          "iopub.status.busy": "2024-03-28T21:47:50.229385Z",
          "iopub.status.idle": "2024-03-28T21:47:50.234240Z",
          "shell.execute_reply": "2024-03-28T21:47:50.233029Z"
        },
        "papermill": {
          "duration": 0.022073,
          "end_time": "2024-03-28T21:47:50.236649",
          "exception": false,
          "start_time": "2024-03-28T21:47:50.214576",
          "status": "completed"
        },
        "tags": [],
        "id": "b1e654f9"
      },
      "outputs": [],
      "source": [
        "# X_train_new = augment_dataset(X_train, y_train)"
      ]
    },
    {
      "cell_type": "code",
      "execution_count": null,
      "id": "ac239ba8",
      "metadata": {
        "execution": {
          "iopub.execute_input": "2024-03-28T21:47:50.265488Z",
          "iopub.status.busy": "2024-03-28T21:47:50.264336Z",
          "iopub.status.idle": "2024-03-28T21:47:51.695458Z",
          "shell.execute_reply": "2024-03-28T21:47:51.694068Z"
        },
        "papermill": {
          "duration": 1.448756,
          "end_time": "2024-03-28T21:47:51.698650",
          "exception": false,
          "start_time": "2024-03-28T21:47:50.249894",
          "status": "completed"
        },
        "tags": [],
        "id": "ac239ba8"
      },
      "outputs": [],
      "source": [
        "# Load the spaCy model\n",
        "nlp = spacy.load('en_core_web_sm') #, disable=['parser', 'tagger', 'ner'])\n",
        "\n",
        "# Custom tokenizer using spaCy\n",
        "def spacy_tokenizer(document):\n",
        "    result = []\n",
        "    for sent in sent_tokenize(document):\n",
        "        for token in nlp(sent):\n",
        "            if not token.is_punct and not token.is_space and not token.is_stop:\n",
        "                if not token.like_num and not token.like_url:\n",
        "                    if len(token.text) < 30:\n",
        "                        result.append(token.lemma_)\n",
        "    return result\n"
      ]
    },
    {
      "cell_type": "code",
      "execution_count": null,
      "id": "571143b2",
      "metadata": {
        "execution": {
          "iopub.execute_input": "2024-03-28T21:47:51.728162Z",
          "iopub.status.busy": "2024-03-28T21:47:51.727204Z",
          "iopub.status.idle": "2024-03-28T21:47:51.738009Z",
          "shell.execute_reply": "2024-03-28T21:47:51.736422Z"
        },
        "papermill": {
          "duration": 0.028687,
          "end_time": "2024-03-28T21:47:51.740799",
          "exception": false,
          "start_time": "2024-03-28T21:47:51.712112",
          "status": "completed"
        },
        "tags": [],
        "id": "571143b2"
      },
      "outputs": [],
      "source": [
        "# creating our bag of words\n",
        "tfidf_vector = TfidfVectorizer(tokenizer=spacy_tokenizer,\n",
        "                               lowercase=True,\n",
        "                               max_df=0.5,\n",
        "                               min_df=2,\n",
        "                               ngram_range=(1, 2)\n",
        "                               )\n",
        "\n",
        "\n",
        "# Custom transformer using spaCy\n",
        "class predictors(TransformerMixin):\n",
        "    def transform(self, X, **transform_params):\n",
        "        # Cleaning Text\n",
        "        return [clean_text(text) for text in X]\n",
        "\n",
        "    def fit(self, X, y=None, **fit_params):\n",
        "        return self\n",
        "\n",
        "    def get_params(self, deep=True):\n",
        "        return {}\n",
        "\n",
        "# Basic function to clean the text\n",
        "def clean_text(text):\n",
        "    # remove any symbols\n",
        "    text = re.sub(r\"[^A-Za-z0-9]\", \" \", text)\n",
        "    # Removing spaces and converting text into lowercase\n",
        "    return text.strip().lower()\n"
      ]
    },
    {
      "cell_type": "code",
      "execution_count": null,
      "id": "5a4b6314",
      "metadata": {
        "execution": {
          "iopub.execute_input": "2024-03-28T21:47:51.770715Z",
          "iopub.status.busy": "2024-03-28T21:47:51.770244Z",
          "iopub.status.idle": "2024-03-28T21:47:51.775431Z",
          "shell.execute_reply": "2024-03-28T21:47:51.774544Z"
        },
        "papermill": {
          "duration": 0.022775,
          "end_time": "2024-03-28T21:47:51.777560",
          "exception": false,
          "start_time": "2024-03-28T21:47:51.754785",
          "status": "completed"
        },
        "tags": [],
        "id": "5a4b6314"
      },
      "outputs": [],
      "source": [
        "data_pipeline =  Pipeline([(\"cleaner\", predictors()),\n",
        "                           ('vectorizer', tfidf_vector),\n",
        "                           (\"selector\", SelectPercentile(chi2, percentile=10)),\n",
        "                          ])"
      ]
    },
    {
      "cell_type": "code",
      "execution_count": null,
      "id": "e38049a0",
      "metadata": {
        "execution": {
          "iopub.execute_input": "2024-03-28T21:47:51.808408Z",
          "iopub.status.busy": "2024-03-28T21:47:51.806988Z",
          "iopub.status.idle": "2024-03-28T21:47:51.830013Z",
          "shell.execute_reply": "2024-03-28T21:47:51.828724Z"
        },
        "papermill": {
          "duration": 0.041869,
          "end_time": "2024-03-28T21:47:51.832884",
          "exception": false,
          "start_time": "2024-03-28T21:47:51.791015",
          "status": "completed"
        },
        "tags": [],
        "id": "e38049a0",
        "outputId": "28e6e919-f8e7-4eff-9c92-043b4ae67ee5"
      },
      "outputs": [
        {
          "data": {
            "text/html": [
              "<style>#sk-container-id-1 {color: black;background-color: white;}#sk-container-id-1 pre{padding: 0;}#sk-container-id-1 div.sk-toggleable {background-color: white;}#sk-container-id-1 label.sk-toggleable__label {cursor: pointer;display: block;width: 100%;margin-bottom: 0;padding: 0.3em;box-sizing: border-box;text-align: center;}#sk-container-id-1 label.sk-toggleable__label-arrow:before {content: \"▸\";float: left;margin-right: 0.25em;color: #696969;}#sk-container-id-1 label.sk-toggleable__label-arrow:hover:before {color: black;}#sk-container-id-1 div.sk-estimator:hover label.sk-toggleable__label-arrow:before {color: black;}#sk-container-id-1 div.sk-toggleable__content {max-height: 0;max-width: 0;overflow: hidden;text-align: left;background-color: #f0f8ff;}#sk-container-id-1 div.sk-toggleable__content pre {margin: 0.2em;color: black;border-radius: 0.25em;background-color: #f0f8ff;}#sk-container-id-1 input.sk-toggleable__control:checked~div.sk-toggleable__content {max-height: 200px;max-width: 100%;overflow: auto;}#sk-container-id-1 input.sk-toggleable__control:checked~label.sk-toggleable__label-arrow:before {content: \"▾\";}#sk-container-id-1 div.sk-estimator input.sk-toggleable__control:checked~label.sk-toggleable__label {background-color: #d4ebff;}#sk-container-id-1 div.sk-label input.sk-toggleable__control:checked~label.sk-toggleable__label {background-color: #d4ebff;}#sk-container-id-1 input.sk-hidden--visually {border: 0;clip: rect(1px 1px 1px 1px);clip: rect(1px, 1px, 1px, 1px);height: 1px;margin: -1px;overflow: hidden;padding: 0;position: absolute;width: 1px;}#sk-container-id-1 div.sk-estimator {font-family: monospace;background-color: #f0f8ff;border: 1px dotted black;border-radius: 0.25em;box-sizing: border-box;margin-bottom: 0.5em;}#sk-container-id-1 div.sk-estimator:hover {background-color: #d4ebff;}#sk-container-id-1 div.sk-parallel-item::after {content: \"\";width: 100%;border-bottom: 1px solid gray;flex-grow: 1;}#sk-container-id-1 div.sk-label:hover label.sk-toggleable__label {background-color: #d4ebff;}#sk-container-id-1 div.sk-serial::before {content: \"\";position: absolute;border-left: 1px solid gray;box-sizing: border-box;top: 0;bottom: 0;left: 50%;z-index: 0;}#sk-container-id-1 div.sk-serial {display: flex;flex-direction: column;align-items: center;background-color: white;padding-right: 0.2em;padding-left: 0.2em;position: relative;}#sk-container-id-1 div.sk-item {position: relative;z-index: 1;}#sk-container-id-1 div.sk-parallel {display: flex;align-items: stretch;justify-content: center;background-color: white;position: relative;}#sk-container-id-1 div.sk-item::before, #sk-container-id-1 div.sk-parallel-item::before {content: \"\";position: absolute;border-left: 1px solid gray;box-sizing: border-box;top: 0;bottom: 0;left: 50%;z-index: -1;}#sk-container-id-1 div.sk-parallel-item {display: flex;flex-direction: column;z-index: 1;position: relative;background-color: white;}#sk-container-id-1 div.sk-parallel-item:first-child::after {align-self: flex-end;width: 50%;}#sk-container-id-1 div.sk-parallel-item:last-child::after {align-self: flex-start;width: 50%;}#sk-container-id-1 div.sk-parallel-item:only-child::after {width: 0;}#sk-container-id-1 div.sk-dashed-wrapped {border: 1px dashed gray;margin: 0 0.4em 0.5em 0.4em;box-sizing: border-box;padding-bottom: 0.4em;background-color: white;}#sk-container-id-1 div.sk-label label {font-family: monospace;font-weight: bold;display: inline-block;line-height: 1.2em;}#sk-container-id-1 div.sk-label-container {text-align: center;}#sk-container-id-1 div.sk-container {/* jupyter's `normalize.less` sets `[hidden] { display: none; }` but bootstrap.min.css set `[hidden] { display: none !important; }` so we also need the `!important` here to be able to override the default hidden behavior on the sphinx rendered scikit-learn.org. See: https://github.com/scikit-learn/scikit-learn/issues/21755 */display: inline-block !important;position: relative;}#sk-container-id-1 div.sk-text-repr-fallback {display: none;}</style><div id=\"sk-container-id-1\" class=\"sk-top-container\"><div class=\"sk-text-repr-fallback\"><pre>Pipeline(steps=[(&#x27;cleaner&#x27;, &lt;__main__.predictors object at 0x7a098a91f400&gt;),\n",
              "                (&#x27;vectorizer&#x27;,\n",
              "                 TfidfVectorizer(max_df=0.5, min_df=2, ngram_range=(1, 2),\n",
              "                                 tokenizer=&lt;function spacy_tokenizer at 0x7a0989969fc0&gt;)),\n",
              "                (&#x27;selector&#x27;,\n",
              "                 SelectPercentile(score_func=&lt;function chi2 at 0x7a09c5401ea0&gt;))])</pre><b>In a Jupyter environment, please rerun this cell to show the HTML representation or trust the notebook. <br />On GitHub, the HTML representation is unable to render, please try loading this page with nbviewer.org.</b></div><div class=\"sk-container\" hidden><div class=\"sk-item sk-dashed-wrapped\"><div class=\"sk-label-container\"><div class=\"sk-label sk-toggleable\"><input class=\"sk-toggleable__control sk-hidden--visually\" id=\"sk-estimator-id-1\" type=\"checkbox\" ><label for=\"sk-estimator-id-1\" class=\"sk-toggleable__label sk-toggleable__label-arrow\">Pipeline</label><div class=\"sk-toggleable__content\"><pre>Pipeline(steps=[(&#x27;cleaner&#x27;, &lt;__main__.predictors object at 0x7a098a91f400&gt;),\n",
              "                (&#x27;vectorizer&#x27;,\n",
              "                 TfidfVectorizer(max_df=0.5, min_df=2, ngram_range=(1, 2),\n",
              "                                 tokenizer=&lt;function spacy_tokenizer at 0x7a0989969fc0&gt;)),\n",
              "                (&#x27;selector&#x27;,\n",
              "                 SelectPercentile(score_func=&lt;function chi2 at 0x7a09c5401ea0&gt;))])</pre></div></div></div><div class=\"sk-serial\"><div class=\"sk-item\"><div class=\"sk-estimator sk-toggleable\"><input class=\"sk-toggleable__control sk-hidden--visually\" id=\"sk-estimator-id-2\" type=\"checkbox\" ><label for=\"sk-estimator-id-2\" class=\"sk-toggleable__label sk-toggleable__label-arrow\">predictors</label><div class=\"sk-toggleable__content\"><pre>&lt;__main__.predictors object at 0x7a098a91f400&gt;</pre></div></div></div><div class=\"sk-item\"><div class=\"sk-estimator sk-toggleable\"><input class=\"sk-toggleable__control sk-hidden--visually\" id=\"sk-estimator-id-3\" type=\"checkbox\" ><label for=\"sk-estimator-id-3\" class=\"sk-toggleable__label sk-toggleable__label-arrow\">TfidfVectorizer</label><div class=\"sk-toggleable__content\"><pre>TfidfVectorizer(max_df=0.5, min_df=2, ngram_range=(1, 2),\n",
              "                tokenizer=&lt;function spacy_tokenizer at 0x7a0989969fc0&gt;)</pre></div></div></div><div class=\"sk-item\"><div class=\"sk-estimator sk-toggleable\"><input class=\"sk-toggleable__control sk-hidden--visually\" id=\"sk-estimator-id-4\" type=\"checkbox\" ><label for=\"sk-estimator-id-4\" class=\"sk-toggleable__label sk-toggleable__label-arrow\">SelectPercentile</label><div class=\"sk-toggleable__content\"><pre>SelectPercentile(score_func=&lt;function chi2 at 0x7a09c5401ea0&gt;)</pre></div></div></div></div></div></div></div>"
            ],
            "text/plain": [
              "Pipeline(steps=[('cleaner', <__main__.predictors object at 0x7a098a91f400>),\n",
              "                ('vectorizer',\n",
              "                 TfidfVectorizer(max_df=0.5, min_df=2, ngram_range=(1, 2),\n",
              "                                 tokenizer=<function spacy_tokenizer at 0x7a0989969fc0>)),\n",
              "                ('selector',\n",
              "                 SelectPercentile(score_func=<function chi2 at 0x7a09c5401ea0>))])"
            ]
          },
          "execution_count": 17,
          "metadata": {},
          "output_type": "execute_result"
        }
      ],
      "source": [
        "data_pipeline"
      ]
    },
    {
      "cell_type": "code",
      "execution_count": null,
      "id": "5f1586fa",
      "metadata": {
        "execution": {
          "iopub.execute_input": "2024-03-28T21:47:51.862579Z",
          "iopub.status.busy": "2024-03-28T21:47:51.862189Z",
          "iopub.status.idle": "2024-03-28T22:03:01.467159Z",
          "shell.execute_reply": "2024-03-28T22:03:01.465563Z"
        },
        "papermill": {
          "duration": 909.623959,
          "end_time": "2024-03-28T22:03:01.470518",
          "exception": false,
          "start_time": "2024-03-28T21:47:51.846559",
          "status": "completed"
        },
        "tags": [],
        "id": "5f1586fa",
        "outputId": "527d3fd2-0037-4932-aebc-7d6b374bd1df"
      },
      "outputs": [
        {
          "name": "stderr",
          "output_type": "stream",
          "text": [
            "/opt/conda/lib/python3.10/site-packages/sklearn/feature_extraction/text.py:528: UserWarning: The parameter 'token_pattern' will not be used since 'tokenizer' is not None'\n",
            "  warnings.warn(\n"
          ]
        }
      ],
      "source": [
        "X_train_p = data_pipeline.fit_transform(X_train, y_train)\n",
        "X_val_p = data_pipeline.transform(X_val)\n",
        "X_test_p = data_pipeline.transform(X_test)"
      ]
    },
    {
      "cell_type": "code",
      "execution_count": null,
      "id": "3dd89080",
      "metadata": {
        "execution": {
          "iopub.execute_input": "2024-03-28T22:03:01.501801Z",
          "iopub.status.busy": "2024-03-28T22:03:01.501317Z",
          "iopub.status.idle": "2024-03-28T22:03:01.509919Z",
          "shell.execute_reply": "2024-03-28T22:03:01.508422Z"
        },
        "papermill": {
          "duration": 0.028328,
          "end_time": "2024-03-28T22:03:01.513180",
          "exception": false,
          "start_time": "2024-03-28T22:03:01.484852",
          "status": "completed"
        },
        "tags": [],
        "id": "3dd89080",
        "outputId": "4e060b7a-a285-4585-9007-559d3252b8bc"
      },
      "outputs": [
        {
          "data": {
            "text/plain": [
              "(6657, 17897)"
            ]
          },
          "execution_count": 19,
          "metadata": {},
          "output_type": "execute_result"
        }
      ],
      "source": [
        "X_train_p.shape"
      ]
    },
    {
      "cell_type": "code",
      "execution_count": null,
      "id": "1a389e99",
      "metadata": {
        "execution": {
          "iopub.execute_input": "2024-03-28T22:03:01.544311Z",
          "iopub.status.busy": "2024-03-28T22:03:01.543902Z",
          "iopub.status.idle": "2024-03-28T22:03:01.553165Z",
          "shell.execute_reply": "2024-03-28T22:03:01.551422Z"
        },
        "papermill": {
          "duration": 0.028177,
          "end_time": "2024-03-28T22:03:01.556323",
          "exception": false,
          "start_time": "2024-03-28T22:03:01.528146",
          "status": "completed"
        },
        "tags": [],
        "id": "1a389e99"
      },
      "outputs": [],
      "source": [
        "def plot_precision_recall_f1_vs_threshold(precisions, recalls, thresholds):\n",
        "    plt.plot(thresholds, precisions[:-1], \"b--\", label=\"Precision\", linewidth=2)\n",
        "    plt.plot(thresholds, recalls[:-1], \"g-\", label=\"Recall\", linewidth=2)\n",
        "    f1 = 2 * (precisions * recalls) / (precisions + recalls)\n",
        "    plt.plot(thresholds, f1[:-1], \"k:\", label=\"F1_Score\", linewidth=2)\n",
        "    plt.legend(loc=\"center right\", fontsize=12)\n",
        "    plt.xlabel(\"Threshold\", fontsize=12)\n",
        "    plt.grid(True)"
      ]
    },
    {
      "cell_type": "code",
      "execution_count": null,
      "id": "5e63066f",
      "metadata": {
        "execution": {
          "iopub.execute_input": "2024-03-28T22:03:01.589116Z",
          "iopub.status.busy": "2024-03-28T22:03:01.588696Z",
          "iopub.status.idle": "2024-03-28T22:03:01.614890Z",
          "shell.execute_reply": "2024-03-28T22:03:01.613592Z"
        },
        "papermill": {
          "duration": 0.046188,
          "end_time": "2024-03-28T22:03:01.617692",
          "exception": false,
          "start_time": "2024-03-28T22:03:01.571504",
          "status": "completed"
        },
        "tags": [],
        "id": "5e63066f"
      },
      "outputs": [],
      "source": [
        "def models(x, X_train, X_val, X_test, y_train, y_val, y_test):\n",
        "  if x == 'LogisticRegression':\n",
        "    clf = LogisticRegression(class_weight='balanced', random_state = 42, max_iter = 200, n_jobs = -1)\n",
        "\n",
        "  elif x == 'RandomForest':\n",
        "    clf = RandomForestClassifier(random_state = 42, n_jobs = -1,\n",
        "                                 n_estimators = 800,\n",
        "                                )\n",
        "\n",
        "  elif x == 'XGBoost':\n",
        "    clf = XGBClassifier(random_state = 42, n_jobs = -1,\n",
        "                        early_stopping_rounds = 10,  # Stop if the validation metric doesn't improve for 10 rounds\n",
        "                        eval_metric='auc',  # Use area under the ROC curve as the evaluation metric\n",
        "                        gamma = 0.01\n",
        "                        )\n",
        "\n",
        "  else:\n",
        "    print(\"wrong input\")\n",
        "    exit()\n",
        "\n",
        "  pipe = clf\n",
        "\n",
        "  # Fitting model\n",
        "  if x == 'XGBoost':\n",
        "    pipe.fit(\n",
        "    X_train,\n",
        "    y_train,\n",
        "    eval_set=[(X_val, y_val)],  # Validation data\n",
        "    verbose=False\n",
        "    )\n",
        "  else:\n",
        "    pipe.fit(X_train, y_train)\n",
        "\n",
        "#   filename = x + '.joblib'\n",
        "#   joblib.dump(pipe, filename)\n",
        "\n",
        "  # Predicting with a test dataset\n",
        "  y_train_pred = pipe.predict(X_train)\n",
        "  y_val_pred = pipe.predict(X_val)\n",
        "  y_test_pred = pipe.predict(X_test)\n",
        "\n",
        "  # Model Report\n",
        "  print(x, 'train classification_report: \\n', classification_report(y_train, y_train_pred))\n",
        "  print(x, 'valid classification_report: \\n', classification_report(y_val, y_val_pred))\n",
        "  print(x, 'test classification_report: \\n', classification_report(y_test, y_test_pred))\n",
        "\n",
        "  print(x, 'train confusion_matrix: \\n', confusion_matrix(y_train, y_train_pred))\n",
        "  print(x, 'valid confusion_matrix: \\n', confusion_matrix(y_val, y_val_pred))\n",
        "  print(x, 'test confusion_matrix: \\n', confusion_matrix(y_test, y_test_pred))\n",
        "\n",
        "  sns.heatmap(confusion_matrix(y_train, y_train_pred), annot=True, cmap='Blues', fmt='g')\n",
        "  plt.title('Confusion Matrix for training dataset')\n",
        "  plt.xlabel('Predicted')\n",
        "  plt.ylabel('Actual')\n",
        "  plt.show()\n",
        "\n",
        "  sns.heatmap(confusion_matrix(y_val, y_val_pred), annot=True, cmap='Blues', fmt='g')\n",
        "  plt.title('Confusion Matrix for validation dataset')\n",
        "  plt.xlabel('Predicted')\n",
        "  plt.ylabel('Actual')\n",
        "  plt.show()\n",
        "\n",
        "  sns.heatmap(confusion_matrix(y_test, y_test_pred), annot=True, cmap='Blues', fmt='g')\n",
        "  plt.title('Confusion Matrix for test dataset')\n",
        "  plt.xlabel('Predicted')\n",
        "  plt.ylabel('Actual')\n",
        "  plt.show()\n",
        "\n",
        "  y_train_proba = pipe.predict_proba(X_train)\n",
        "  y_val_proba = pipe.predict_proba(X_val)\n",
        "  y_test_proba = pipe.predict_proba(X_test)\n",
        "\n",
        "  print('train roc_auc_score: {0:.3f}'.format(roc_auc_score(y_train, y_train_proba[:,1])))\n",
        "  print('valid roc_auc_score: {0:.3f}'.format(roc_auc_score(y_val, y_val_proba[:,1])))\n",
        "  print('test roc_auc_score: {0:.3f}'.format(roc_auc_score(y_test, y_test_proba[:,1])))\n",
        "\n",
        "  print('train pr_auc_score: {0:.3f}'.format(average_precision_score(y_train, y_train_proba[:,1])))\n",
        "  print('valid pr_auc_score: {0:.3f}'.format(average_precision_score(y_val, y_val_proba[:,1])))\n",
        "  print('test pr_auc_score: {0:.3f}'.format(average_precision_score(y_test, y_test_proba[:,1])))\n",
        "\n",
        "\n",
        "# draw plot to determine threshold influence\n",
        "  precisions, recalls, thresholds = precision_recall_curve(y_test, y_test_proba[:,1])\n",
        "  plt.figure(figsize=(8, 4))\n",
        "  plot_precision_recall_f1_vs_threshold(precisions, recalls, thresholds)\n",
        "\n",
        "  return pipe"
      ]
    },
    {
      "cell_type": "code",
      "execution_count": null,
      "id": "1fb0fa9c",
      "metadata": {
        "execution": {
          "iopub.execute_input": "2024-03-28T22:03:01.648436Z",
          "iopub.status.busy": "2024-03-28T22:03:01.648009Z",
          "iopub.status.idle": "2024-03-28T22:03:01.654719Z",
          "shell.execute_reply": "2024-03-28T22:03:01.652953Z"
        },
        "papermill": {
          "duration": 0.02547,
          "end_time": "2024-03-28T22:03:01.657595",
          "exception": false,
          "start_time": "2024-03-28T22:03:01.632125",
          "status": "completed"
        },
        "tags": [],
        "id": "1fb0fa9c"
      },
      "outputs": [],
      "source": [
        "# model_lr = models('LogisticRegression',X_train_p, X_val_p, X_test_p, y_train, y_val, y_test)"
      ]
    },
    {
      "cell_type": "code",
      "execution_count": null,
      "id": "db0888a4",
      "metadata": {
        "execution": {
          "iopub.execute_input": "2024-03-28T22:03:01.690379Z",
          "iopub.status.busy": "2024-03-28T22:03:01.689292Z",
          "iopub.status.idle": "2024-03-28T22:03:01.694188Z",
          "shell.execute_reply": "2024-03-28T22:03:01.692971Z"
        },
        "papermill": {
          "duration": 0.025172,
          "end_time": "2024-03-28T22:03:01.697523",
          "exception": false,
          "start_time": "2024-03-28T22:03:01.672351",
          "status": "completed"
        },
        "tags": [],
        "id": "db0888a4"
      },
      "outputs": [],
      "source": [
        "# model_rf = models('RandomForest',X_train_p, X_val_p, X_test_p, y_train, y_val, y_test)"
      ]
    },
    {
      "cell_type": "code",
      "execution_count": null,
      "id": "faf212d2",
      "metadata": {
        "execution": {
          "iopub.execute_input": "2024-03-28T22:03:01.728620Z",
          "iopub.status.busy": "2024-03-28T22:03:01.728161Z",
          "iopub.status.idle": "2024-03-28T22:03:01.734149Z",
          "shell.execute_reply": "2024-03-28T22:03:01.732547Z"
        },
        "papermill": {
          "duration": 0.024728,
          "end_time": "2024-03-28T22:03:01.736581",
          "exception": false,
          "start_time": "2024-03-28T22:03:01.711853",
          "status": "completed"
        },
        "tags": [],
        "id": "faf212d2"
      },
      "outputs": [],
      "source": [
        "# model_xgb = models('XGBoost',X_train_p, X_val_p, X_test_p, y_train, y_val, y_test)"
      ]
    },
    {
      "cell_type": "code",
      "execution_count": null,
      "id": "df2d422f",
      "metadata": {
        "execution": {
          "iopub.execute_input": "2024-03-28T22:03:01.767571Z",
          "iopub.status.busy": "2024-03-28T22:03:01.767133Z",
          "iopub.status.idle": "2024-03-28T22:06:55.985016Z",
          "shell.execute_reply": "2024-03-28T22:06:55.983683Z"
        },
        "papermill": {
          "duration": 234.236598,
          "end_time": "2024-03-28T22:06:55.987609",
          "exception": false,
          "start_time": "2024-03-28T22:03:01.751011",
          "status": "completed"
        },
        "tags": [],
        "id": "df2d422f",
        "outputId": "1016b9bb-ae79-4df1-dc90-e7a46975bc60"
      },
      "outputs": [
        {
          "name": "stdout",
          "output_type": "stream",
          "text": [
            "RandomForest train classification_report: \n",
            "               precision    recall  f1-score   support\n",
            "\n",
            "           0       1.00      1.00      1.00      6198\n",
            "           1       1.00      1.00      1.00       459\n",
            "\n",
            "    accuracy                           1.00      6657\n",
            "   macro avg       1.00      1.00      1.00      6657\n",
            "weighted avg       1.00      1.00      1.00      6657\n",
            "\n",
            "RandomForest valid classification_report: \n",
            "               precision    recall  f1-score   support\n",
            "\n",
            "           0       0.98      1.00      0.99      1550\n",
            "           1       1.00      0.73      0.84       115\n",
            "\n",
            "    accuracy                           0.98      1665\n",
            "   macro avg       0.99      0.87      0.92      1665\n",
            "weighted avg       0.98      0.98      0.98      1665\n",
            "\n",
            "RandomForest test classification_report: \n",
            "               precision    recall  f1-score   support\n",
            "\n",
            "           0       0.98      1.00      0.99      1937\n",
            "           1       0.97      0.77      0.86       144\n",
            "\n",
            "    accuracy                           0.98      2081\n",
            "   macro avg       0.98      0.88      0.93      2081\n",
            "weighted avg       0.98      0.98      0.98      2081\n",
            "\n",
            "RandomForest train confusion_matrix: \n",
            " [[6198    0]\n",
            " [   0  459]]\n",
            "RandomForest valid confusion_matrix: \n",
            " [[1550    0]\n",
            " [  31   84]]\n",
            "RandomForest test confusion_matrix: \n",
            " [[1934    3]\n",
            " [  33  111]]\n"
          ]
        },
        {
          "data": {
            "image/png": "[encoded data removed]",
            "text/plain": [
              "<Figure size 640x480 with 2 Axes>"
            ]
          },
          "metadata": {},
          "output_type": "display_data"
        },
        {
          "data": {
            "image/png": "[encoded data removed]",
            "text/plain": [
              "<Figure size 640x480 with 2 Axes>"
            ]
          },
          "metadata": {},
          "output_type": "display_data"
        },
        {
          "data": {
            "image/png": "[encoded data removed]",
            "text/plain": [
              "<Figure size 640x480 with 2 Axes>"
            ]
          },
          "metadata": {},
          "output_type": "display_data"
        },
        {
          "name": "stdout",
          "output_type": "stream",
          "text": [
            "train roc_auc_score: 1.000\n",
            "valid roc_auc_score: 0.986\n",
            "test roc_auc_score: 0.984\n",
            "train pr_auc_score: 1.000\n",
            "valid pr_auc_score: 0.942\n",
            "test pr_auc_score: 0.936\n"
          ]
        },
        {
          "data": {
            "image/png": "[encoded data removed]",
            "text/plain": [
              "<Figure size 800x400 with 1 Axes>"
            ]
          },
          "metadata": {},
          "output_type": "display_data"
        }
      ],
      "source": [
        "columns_names = list(data_pipeline.named_steps[\"selector\"].get_feature_names_out(data_pipeline.named_steps[\"vectorizer\"].get_feature_names_out()))\n",
        "df_train = pd.DataFrame(X_train_p.todense(), columns=columns_names)\n",
        "df_val = pd.DataFrame(X_val_p.todense(), columns=columns_names)\n",
        "df_test = pd.DataFrame(X_test_p.todense(), columns=columns_names)\n",
        "model_rf = models('RandomForest',df_train, df_val, df_test, y_train, y_val, y_test)"
      ]
    },
    {
      "cell_type": "code",
      "execution_count": null,
      "id": "30aea8d5",
      "metadata": {
        "execution": {
          "iopub.execute_input": "2024-03-28T22:06:56.095760Z",
          "iopub.status.busy": "2024-03-28T22:06:56.095221Z",
          "iopub.status.idle": "2024-03-28T22:06:56.102218Z",
          "shell.execute_reply": "2024-03-28T22:06:56.100599Z"
        },
        "papermill": {
          "duration": 0.028997,
          "end_time": "2024-03-28T22:06:56.105279",
          "exception": false,
          "start_time": "2024-03-28T22:06:56.076282",
          "status": "completed"
        },
        "tags": [],
        "id": "30aea8d5"
      },
      "outputs": [],
      "source": [
        "# def fine_tune_model(model, param_grid, X_train, y_train):\n",
        "#     skf = StratifiedKFold(n_splits=5, shuffle=True, random_state=42)\n",
        "#     grid_search = RandomizedSearchCV(model, param_grid, cv=skf, n_iter = 15,\n",
        "#                               scoring='average_precision',\n",
        "#                               return_train_score=True,\n",
        "#                               n_jobs = -1)\n",
        "#     grid_search.fit(X_train, y_train)\n",
        "#     print(\"best parameters: \", grid_search.best_params_)\n",
        "#     print(\"best score: \", grid_search.best_score_)\n",
        "\n",
        "#     cvres = grid_search.cv_results_\n",
        "# #     for mean_score, params in zip(cvres[\"mean_test_score\"], cvres[\"params\"]):\n",
        "# #         print((-mean_score), params)\n",
        "\n",
        "#     return cvres"
      ]
    },
    {
      "cell_type": "code",
      "execution_count": null,
      "id": "ff710c98",
      "metadata": {
        "execution": {
          "iopub.execute_input": "2024-03-28T22:06:56.146069Z",
          "iopub.status.busy": "2024-03-28T22:06:56.145560Z",
          "iopub.status.idle": "2024-03-28T22:06:56.151565Z",
          "shell.execute_reply": "2024-03-28T22:06:56.150073Z"
        },
        "papermill": {
          "duration": 0.031721,
          "end_time": "2024-03-28T22:06:56.154537",
          "exception": false,
          "start_time": "2024-03-28T22:06:56.122816",
          "status": "completed"
        },
        "tags": [],
        "id": "ff710c98"
      },
      "outputs": [],
      "source": [
        "# params = {\n",
        "# #           'n_estimators': [300, 500, 700, 900],\n",
        "# #           'learning_rate': [0.075, 0.1, 0.125, 0.15],\n",
        "# #           'max_depth': range(10, 25),\n",
        "#           'min_samples_leaf': range(1,5),\n",
        "#           'max_features': [1.0, 'log2', 'sqrt']\n",
        "# #           'gamma': [0, 0.005, 0.075, 0.01, 0.0125],\n",
        "#          }\n",
        "\n",
        "# cvres_xgb = fine_tune_model(model_rf, params, X_train_p, y_train)"
      ]
    },
    {
      "cell_type": "code",
      "execution_count": null,
      "id": "0a7d52ec",
      "metadata": {
        "execution": {
          "iopub.execute_input": "2024-03-28T22:06:56.191773Z",
          "iopub.status.busy": "2024-03-28T22:06:56.191299Z",
          "iopub.status.idle": "2024-03-28T22:06:56.196847Z",
          "shell.execute_reply": "2024-03-28T22:06:56.195472Z"
        },
        "papermill": {
          "duration": 0.027058,
          "end_time": "2024-03-28T22:06:56.199510",
          "exception": false,
          "start_time": "2024-03-28T22:06:56.172452",
          "status": "completed"
        },
        "tags": [],
        "id": "0a7d52ec"
      },
      "outputs": [],
      "source": [
        "# # plot the cross_validation result:\n",
        "# result_df = pd.DataFrame.from_dict(cvres_xgb, orient='columns')\n",
        "# print(result_df.columns)\n",
        "# sns.relplot(data=result_df,\n",
        "#  kind='line',\n",
        "#  x='param_min_samples_leaf',\n",
        "#  y='mean_test_score',\n",
        "# #  hue='param_gamma',\n",
        "#  col='param_max_features',\n",
        "#            )\n",
        "# plt.show()"
      ]
    },
    {
      "cell_type": "code",
      "execution_count": null,
      "id": "44273b34",
      "metadata": {
        "execution": {
          "iopub.execute_input": "2024-03-28T22:06:56.238068Z",
          "iopub.status.busy": "2024-03-28T22:06:56.237585Z",
          "iopub.status.idle": "2024-03-28T22:06:57.499775Z",
          "shell.execute_reply": "2024-03-28T22:06:57.498482Z"
        },
        "papermill": {
          "duration": 1.284292,
          "end_time": "2024-03-28T22:06:57.502186",
          "exception": false,
          "start_time": "2024-03-28T22:06:56.217894",
          "status": "completed"
        },
        "tags": [],
        "id": "44273b34",
        "outputId": "e1d39d12-971c-4af3-b31c-a2537db97a5d"
      },
      "outputs": [
        {
          "data": {
            "text/plain": [
              "[Text(0.5, 1.0, 'Random Forest Feature Importance'), Text(0, 0.5, '')]"
            ]
          },
          "execution_count": 29,
          "metadata": {},
          "output_type": "execute_result"
        },
        {
          "data": {
            "image/png": "[encoded data removed]",
            "text/plain": [
              "<Figure size 800x1000 with 1 Axes>"
            ]
          },
          "metadata": {},
          "output_type": "display_data"
        }
      ],
      "source": [
        "feature_importance = model_rf.feature_importances_\n",
        "original_feature_importance = data_pipeline.named_steps[\"selector\"].inverse_transform(feature_importance.reshape(1, -1))\n",
        "fi = pd.DataFrame(data=original_feature_importance.reshape(-1,1),\n",
        "              index=data_pipeline.named_steps[\"vectorizer\"].get_feature_names_out(),\n",
        "              columns=['importance'])\n",
        "\n",
        "fi_select = fi.sort_values('importance', ascending = False)[:20]\n",
        "fig = plt.figure(figsize =(8, 10))\n",
        "sns.barplot(x = fi_select.importance, y = fi_select.index ,\n",
        "            ).set(title='Random Forest Feature Importance', ylabel = \"\")"
      ]
    },
    {
      "cell_type": "code",
      "execution_count": null,
      "id": "78704c9e",
      "metadata": {
        "execution": {
          "iopub.execute_input": "2024-03-28T22:06:57.542879Z",
          "iopub.status.busy": "2024-03-28T22:06:57.541544Z",
          "iopub.status.idle": "2024-03-28T22:06:57.815771Z",
          "shell.execute_reply": "2024-03-28T22:06:57.814391Z"
        },
        "papermill": {
          "duration": 0.296827,
          "end_time": "2024-03-28T22:06:57.818395",
          "exception": false,
          "start_time": "2024-03-28T22:06:57.521568",
          "status": "completed"
        },
        "tags": [],
        "id": "78704c9e",
        "outputId": "427e3a1a-4d9e-4a9b-ee5c-0f2d18aacd8f"
      },
      "outputs": [
        {
          "name": "stdout",
          "output_type": "stream",
          "text": [
            "['100k' '100k management' '100k time' ... 'zigbee radio' 'zip' 'zip code']\n"
          ]
        }
      ],
      "source": [
        "feature_indices = data_pipeline.named_steps[\"selector\"].transform(np.array(data_pipeline.named_steps[\"vectorizer\"].get_feature_names_out()).reshape(1, -1))[0]\n",
        "print(feature_indices)"
      ]
    },
    {
      "cell_type": "code",
      "execution_count": null,
      "id": "3660afad",
      "metadata": {
        "execution": {
          "iopub.execute_input": "2024-03-28T22:06:57.859874Z",
          "iopub.status.busy": "2024-03-28T22:06:57.859428Z",
          "iopub.status.idle": "2024-03-28T22:06:57.864430Z",
          "shell.execute_reply": "2024-03-28T22:06:57.862988Z"
        },
        "papermill": {
          "duration": 0.029032,
          "end_time": "2024-03-28T22:06:57.866928",
          "exception": false,
          "start_time": "2024-03-28T22:06:57.837896",
          "status": "completed"
        },
        "tags": [],
        "id": "3660afad"
      },
      "outputs": [],
      "source": [
        "# columns_names = list(data_pipeline.named_steps[\"selector\"].get_feature_names_out(data_pipeline.named_steps[\"vectorizer\"].get_feature_names_out()))\n",
        "# df = pd.DataFrame(X_test_p.todense(), columns=columns_names)"
      ]
    },
    {
      "cell_type": "markdown",
      "id": "bd2c74e3",
      "metadata": {
        "papermill": {
          "duration": 0.019313,
          "end_time": "2024-03-28T22:06:57.906053",
          "exception": false,
          "start_time": "2024-03-28T22:06:57.886740",
          "status": "completed"
        },
        "tags": [],
        "id": "bd2c74e3"
      },
      "source": [
        "## Error analysis"
      ]
    },
    {
      "cell_type": "code",
      "execution_count": null,
      "id": "904020f4",
      "metadata": {
        "execution": {
          "iopub.execute_input": "2024-03-28T22:06:57.946743Z",
          "iopub.status.busy": "2024-03-28T22:06:57.946254Z",
          "iopub.status.idle": "2024-03-28T22:06:59.225182Z",
          "shell.execute_reply": "2024-03-28T22:06:59.222983Z"
        },
        "papermill": {
          "duration": 1.303024,
          "end_time": "2024-03-28T22:06:59.228163",
          "exception": false,
          "start_time": "2024-03-28T22:06:57.925139",
          "status": "completed"
        },
        "tags": [],
        "id": "904020f4",
        "outputId": "9a665e14-bfe5-4ae4-a919-30d780771859"
      },
      "outputs": [
        {
          "name": "stderr",
          "output_type": "stream",
          "text": [
            "/opt/conda/lib/python3.10/site-packages/sklearn/base.py:439: UserWarning: X does not have valid feature names, but RandomForestClassifier was fitted with feature names\n",
            "  warnings.warn(\n"
          ]
        },
        {
          "name": "stdout",
          "output_type": "stream",
          "text": [
            "       fraudulent     prob\n",
            "10306           1  0.00500\n",
            "6244            1  0.00500\n",
            "4983            1  0.00625\n",
            "2123            1  0.01500\n",
            "10360           1  0.01625\n",
            "10365           1  0.03125\n",
            "4583            1  0.04000\n",
            "7076            1  0.04750\n",
            "2090            1  0.05625\n",
            "6069            1  0.05750\n",
            "2936            1  0.05750\n",
            "3920            1  0.06750\n",
            "3593            1  0.11375\n",
            "1657            1  0.11625\n",
            "1675            1  0.12875\n",
            "10260           1  0.13000\n",
            "10309           1  0.13250\n",
            "4148            1  0.15000\n",
            "4077            1  0.15375\n",
            "10343           1  0.16375\n",
            "3171            1  0.23375\n",
            "2851            1  0.24000\n",
            "4698            1  0.24750\n",
            "3444            1  0.27250\n",
            "3087            1  0.29375\n",
            "10369           1  0.30875\n",
            "10231           1  0.33750\n",
            "3919            1  0.38500\n",
            "10348           1  0.40875\n",
            "10182           1  0.41375\n",
            "10229           1  0.43250\n",
            "10234           1  0.48875\n",
            "2080            1  0.49000\n",
            "6874            0  0.53875\n",
            "3865            0  0.62125\n",
            "3836            0  0.62625\n"
          ]
        }
      ],
      "source": [
        "y_test_pred = model_rf.predict(X_test_p)\n",
        "y_test_proba = model_rf.predict_proba(X_test_p)\n",
        "y_test_wrong = pd.DataFrame(y_test[y_test_pred != y_test])\n",
        "y_test_proba_wrong = y_test_proba[y_test_pred != y_test]\n",
        "y_test_wrong['prob'] = y_test_proba_wrong[:,1]\n",
        "y_test_wrong = y_test_wrong.sort_values(by=['prob'])\n",
        "print(y_test_wrong)"
      ]
    }
  ],
  "metadata": {
    "kaggle": {
      "accelerator": "none",
      "dataSources": [
        {
          "datasetId": 533871,
          "sourceId": 976879,
          "sourceType": "datasetVersion"
        }
      ],
      "dockerImageVersionId": 30646,
      "isGpuEnabled": false,
      "isInternetEnabled": true,
      "language": "python",
      "sourceType": "notebook"
    },
    "kernelspec": {
      "display_name": "Python 3",
      "language": "python",
      "name": "python3"
    },
    "language_info": {
      "codemirror_mode": {
        "name": "ipython",
        "version": 3
      },
      "file_extension": ".py",
      "mimetype": "text/x-python",
      "name": "python",
      "nbconvert_exporter": "python",
      "pygments_lexer": "ipython3",
      "version": "3.10.13"
    },
    "papermill": {
      "default_parameters": {},
      "duration": 25970.871031,
      "end_time": "2024-03-29T05:00:22.254918",
      "environment_variables": {},
      "exception": true,
      "input_path": "__notebook__.ipynb",
      "output_path": "__notebook__.ipynb",
      "parameters": {},
      "start_time": "2024-03-28T21:47:31.383887",
      "version": "2.5.0"
    },
    "colab": {
      "provenance": []
    }
  },
  "nbformat": 4,
  "nbformat_minor": 5
}